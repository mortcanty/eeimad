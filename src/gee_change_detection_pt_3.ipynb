{
  "cells": [
    {
      "cell_type": "code",
      "execution_count": null,
      "metadata": {
        "id": "zandql6BLXYn"
      },
      "outputs": [],
      "source": [
        "#@title Copyright 2023 The Earth Engine Community Authors { display-mode: \"form\" }\n",
        "#\n",
        "# Licensed under the Apache License, Version 2.0 (the \"License\");\n",
        "# you may not use this file except in compliance with the License.\n",
        "# You may obtain a copy of the License at\n",
        "#\n",
        "# https://www.apache.org/licenses/LICENSE-2.0\n",
        "#\n",
        "# Unless required by applicable law or agreed to in writing, software\n",
        "# distributed under the License is distributed on an \"AS IS\" BASIS,\n",
        "# WITHOUT WARRANTIES OR CONDITIONS OF ANY KIND, either express or implied.\n",
        "# See the License for the specific language governing permissions and\n",
        "# limitations under the License."
      ]
    },
    {
      "cell_type": "markdown",
      "metadata": {
        "id": "pJrMq0aNrF-u"
      },
      "source": [
        "# Change Detection in GEE - Part 3 Relative Radiometric Normalization and Harmonization\n",
        "\n",
        " Authors: mortcanty, allannielsen"
      ]
    },
    {
      "cell_type": "markdown",
      "metadata": {
        "id": "xsCfTJVeLXYp"
      },
      "source": [
        "Test of pixel intensities across different image acquisitions requires that the received signals have similar radiometric scales.\n",
        "As we saw in [Part 2](https://developers.google.com/earth-engine/tutorials/community/imad-tutorial-pt2) of the present tutorial, provided the iMAD algorithm converges satisfactorily, it will isolate the pixels\n",
        "which have not significantly changed in the two input images presented to it. A regression analysis on these no-change\n",
        "pixels can then determine how well the radiometric parameters of the two acquisitions compare.\n",
        "If, for instance, images that were corrected to absolute surface reflectance are examined in this way, we would expect a good match, i.e., a\n",
        "slope close to one and an intercept close to zero at all spectral wavelengths. In general,\n",
        "for uncalibrated or poorly corrected images, this will not be the case. Then, the regression\n",
        "coefficients can be applied to normalize one image (the target, say) to the other\n",
        "(the reference). This is a prerequisite, for example, for tracing features such as NDVI indices over\n",
        "a time series when the images have not been reduced to surface reflectances,\n",
        "see e.g., [Gan et al. (2021)](https://ieeexplore.ieee.org/document/9392311), or indeed for\n",
        "*harmonizing* the data from two different sensors of the same family, such as Landsat 8 with\n",
        "Landsat 9. In this final part of the GEE Change Detection Tutorial we'll have a closer look at this approach, which we'll refer to here as *relative radiometric normalization*. For more detailed treatment, see also [Canty and Nielsen (2008)](https://www.sciencedirect.com/science/article/abs/pii/S0034425707003495), [Canty et al. (2004)](https://www.sciencedirect.com/science/article/abs/pii/S0034425704001208), and [Schroeder et al. (2006)](https://www.sciencedirect.com/science/article/abs/pii/S0034425706001179). A different (but similar) method involving identification of so-called *pseudoinvariant features*\n",
        "is explained in [another GEE community tutorial](https://developers.google.com/earth-engine/tutorials/community/pseudo-invariant-feature-matching) in this series."
      ]
    },
    {
      "cell_type": "markdown",
      "metadata": {
        "id": "A_dVj6pBLXYp"
      },
      "source": [
        "## Preliminaries"
      ]
    },
    {
      "cell_type": "code",
      "execution_count": null,
      "metadata": {
        "id": "x9Fw9beDLXYp",
        "tags": []
      },
      "outputs": [],
      "source": [
        "# Enter your own export to assets path name here -----------\n",
        "EXPORT_PATH = 'projects/YOUR_GEE_PROJECT_NAME/assets/imad/'\n",
        "# ------------------------------------------------"
      ]
    },
    {
      "cell_type": "code",
      "execution_count": null,
      "metadata": {
        "id": "4w4PeArZLXYp",
        "tags": []
      },
      "outputs": [],
      "source": [
        "import ee\n",
        "\n",
        "ee.Authenticate(auth_mode='notebook')\n",
        "ee.Initialize()"
      ]
    },
    {
      "cell_type": "code",
      "execution_count": null,
      "metadata": {
        "id": "1NQTCj6TLXYq",
        "tags": []
      },
      "outputs": [],
      "source": [
        "# Import other packages used in the tutorial\n",
        "%matplotlib inline\n",
        "import geemap\n",
        "import numpy as np\n",
        "import random, time\n",
        "import matplotlib.pyplot as plt\n",
        "from scipy.stats import norm, chi2\n",
        "\n",
        "from pprint import pprint  # for pretty printing"
      ]
    },
    {
      "cell_type": "code",
      "execution_count": null,
      "metadata": {
        "id": "LPxfmiKVLXYq"
      },
      "outputs": [],
      "source": [
        "#@title Routines from Parts 1 and 2\n",
        "\n",
        "def trunc(values, dec = 3):\n",
        "    '''Truncate a 1-D array to dec decimal places.'''\n",
        "    return np.trunc(values*10**dec)/(10**dec)\n",
        "\n",
        "# Display an image in a one percent linear stretch.\n",
        "def display_ls(image, map, name, centered = False):\n",
        "    bns = image.bandNames().length().getInfo()\n",
        "    if bns == 3:\n",
        "        image = image.rename('B1', 'B2', 'B3')\n",
        "        pb_99 = ['B1_p99', 'B2_p99', 'B3_p99']\n",
        "        pb_1 = ['B1_p1', 'B2_p1', 'B3_p1']\n",
        "        img = ee.Image.rgb(\n",
        "            image.select('B1'), image.select('B2'), image.select('B3'))\n",
        "    else:\n",
        "        image = image.rename('B1')\n",
        "        pb_99 = ['B1_p99']\n",
        "        pb_1 = ['B1_p1']\n",
        "        img = image.select('B1')\n",
        "    percentiles = image.reduceRegion(\n",
        "        ee.Reducer.percentile([1, 99]), maxPixels=1e11)\n",
        "    mx = percentiles.values(pb_99)\n",
        "    if centered:\n",
        "        mn = ee.Array(mx).multiply(-1).toList()\n",
        "    else:\n",
        "        mn = percentiles.values(pb_1)\n",
        "    map.addLayer(img, {'min': mn, 'max': mx}, name)\n",
        "\n",
        "def covarw(image, weights=None, scale=20, maxPixels=1e10):\n",
        "    '''Return the centered image and its weighted covariance matrix.'''\n",
        "    try:\n",
        "        geometry = image.geometry()\n",
        "        bandNames = image.bandNames()\n",
        "        N = bandNames.length()\n",
        "        if weights is None:\n",
        "            weights = image.constant(1)\n",
        "        weightsImage = image.multiply(ee.Image.constant(0)).add(weights)\n",
        "        means = image.addBands(weightsImage) \\\n",
        "                    .reduceRegion(ee.Reducer.mean().repeat(N).splitWeights(),\n",
        "                                scale=scale,\n",
        "                                maxPixels=maxPixels) \\\n",
        "                    .toArray() \\\n",
        "                    .project([1])\n",
        "        centered = image.toArray().subtract(means)\n",
        "        B1 = centered.bandNames().get(0)\n",
        "        b1 = weights.bandNames().get(0)\n",
        "        nPixels = ee.Number(centered.reduceRegion(ee.Reducer.count(),\n",
        "                                                scale=scale,\n",
        "                                                maxPixels=maxPixels).get(B1))\n",
        "        sumWeights = ee.Number(weights.reduceRegion(ee.Reducer.sum(),\n",
        "                                                    geometry=geometry,\n",
        "                                                    scale=scale,\n",
        "                                                    maxPixels=maxPixels).get(b1))\n",
        "        covw = centered.multiply(weights.sqrt()) \\\n",
        "                    .toArray() \\\n",
        "                    .reduceRegion(ee.Reducer.centeredCovariance(),\n",
        "                                    geometry=geometry,\n",
        "                                    scale=scale,\n",
        "                                    maxPixels=maxPixels) \\\n",
        "                    .get('array')\n",
        "        covw = ee.Array(covw).multiply(nPixels).divide(sumWeights)\n",
        "        return (centered.arrayFlatten([bandNames]), covw)\n",
        "    except Exception as e:\n",
        "        print('Error: %s'%e)\n",
        "\n",
        "def corr(cov):\n",
        "    '''Transform covariance matrix to correlation matrix.'''\n",
        "    # Diagonal matrix of inverse sigmas.\n",
        "    sInv = cov.matrixDiagonal().sqrt().matrixToDiag().matrixInverse()\n",
        "    # Transform.\n",
        "    corr = sInv.matrixMultiply(cov).matrixMultiply(sInv).getInfo()\n",
        "    # Truncate.\n",
        "    return [list(map(trunc, corr[i])) for i in range(len(corr))]\n",
        "\n",
        "def geneiv(C,B):\n",
        "    '''Return the eigenvalues and eigenvectors of the generalized eigenproblem\n",
        "       C*X = lambda*B*X'''\n",
        "    try:\n",
        "        C = ee.Array(C)\n",
        "        B = ee.Array(B)\n",
        "        #  Li = choldc(B)^-1\n",
        "        Li = ee.Array(B.matrixCholeskyDecomposition().get('L')).matrixInverse()\n",
        "        # Solve symmetric, ordinary eigenproblem Li*C*Li^T*x = lambda*x\n",
        "        Xa = Li.matrixMultiply(C) \\\n",
        "            .matrixMultiply(Li.matrixTranspose()) \\\n",
        "            .eigen()\n",
        "        # Eigenvalues as a row vector.\n",
        "        lambdas = Xa.slice(1, 0, 1).matrixTranspose()\n",
        "        # Eigenvectors as columns.\n",
        "        X = Xa.slice(1, 1).matrixTranspose()\n",
        "        # Generalized eigenvectors as columns, Li^T*X\n",
        "        eigenvecs = Li.matrixTranspose().matrixMultiply(X)\n",
        "        return (lambdas, eigenvecs)\n",
        "    except Exception as e:\n",
        "        print('Error: %s'%e)\n",
        "\n",
        "# Collect a Sentinel-2 image pair.\n",
        "def collect(aoi, t1a ,t1b, t2a, t2b, coll1, coll2 = None):\n",
        "    try:\n",
        "        if coll2 == None:\n",
        "            coll2 = coll1\n",
        "        im1 = ee.Image( ee.ImageCollection(coll1)\n",
        "                               .filterBounds(aoi)\n",
        "                               .filterDate(ee.Date(t1a), ee.Date(t1b))\n",
        "                               .filter(ee.Filter.contains(rightValue=aoi, leftField='.geo'))\n",
        "                               .sort('CLOUDY_PIXEL_PERCENTAGE')\n",
        "                               .sort('CLOUD_COVER_LAND')\n",
        "                               .first()\n",
        "                               .clip(aoi) )\n",
        "        im2 = ee.Image( ee.ImageCollection(coll2)\n",
        "                               .filterBounds(aoi)\n",
        "                               .filterDate(ee.Date(t2a), ee.Date(t2b))\n",
        "                               .filter(ee.Filter.contains(rightValue=aoi, leftField='.geo'))\n",
        "                               .sort('CLOUDY_PIXEL_PERCENTAGE')\n",
        "                               .sort('CLOUD_COVER_LAND')\n",
        "                               .first()\n",
        "                               .clip(aoi) )\n",
        "        timestamp = im1.date().format('E MMM dd HH:mm:ss YYYY')\n",
        "        print(timestamp.getInfo())\n",
        "        timestamp = im2.date().format('E MMM dd HH:mm:ss YYYY')\n",
        "        print(timestamp.getInfo())\n",
        "        return (im1, im2)\n",
        "    except Exception as e:\n",
        "        print('Error: %s'%e)\n",
        "\n",
        "#@title The iMAD code\n",
        "def chi2cdf(Z,df):\n",
        "    '''Chi-square cumulative distribution function with df degrees of freedom.'''\n",
        "    return ee.Image(Z.divide(2)).gammainc(ee.Number(df).divide(2))\n",
        "\n",
        "def imad(current,prev):\n",
        "    '''Iterator function for iMAD.'''\n",
        "    done =  ee.Number(ee.Dictionary(prev).get('done'))\n",
        "    return ee.Algorithms.If(done, prev, imad1(current, prev))\n",
        "\n",
        "def imad1(current,prev):\n",
        "    '''Iteratively re-weighted MAD.'''\n",
        "    image = ee.Image(ee.Dictionary(prev).get('image'))\n",
        "    Z = ee.Image(ee.Dictionary(prev).get('Z'))\n",
        "    allrhos = ee.List(ee.Dictionary(prev).get('allrhos'))\n",
        "    nBands = image.bandNames().length().divide(2)\n",
        "    weights = chi2cdf(Z,nBands).subtract(1).multiply(-1)\n",
        "    scale = ee.Dictionary(prev).getNumber('scale')\n",
        "    niter = ee.Dictionary(prev).getNumber('niter')\n",
        "    # Weighted stacked image and weighted covariance matrix.\n",
        "    centeredImage, covarArray = covarw(image, weights, scale)\n",
        "    bNames = centeredImage.bandNames()\n",
        "    bNames1 = bNames.slice(0, nBands)\n",
        "    bNames2 = bNames.slice(nBands)\n",
        "    centeredImage1 = centeredImage.select(bNames1)\n",
        "    centeredImage2 = centeredImage.select(bNames2)\n",
        "    s11 = covarArray.slice(0, 0, nBands).slice(1, 0, nBands)\n",
        "    s22 = covarArray.slice(0, nBands).slice(1, nBands)\n",
        "    s12 = covarArray.slice(0, 0, nBands).slice(1, nBands)\n",
        "    s21 = covarArray.slice(0, nBands).slice(1, 0, nBands)\n",
        "    c1 = s12.matrixMultiply(s22.matrixInverse()).matrixMultiply(s21)\n",
        "    b1 = s11\n",
        "    c2 = s21.matrixMultiply(s11.matrixInverse()).matrixMultiply(s12)\n",
        "    b2 = s22\n",
        "    # Solution of generalized eigenproblems.\n",
        "    lambdas, A = geneiv(c1, b1)\n",
        "    _, B       = geneiv(c2, b2)\n",
        "    rhos = lambdas.sqrt().project(ee.List([1]))\n",
        "    # Test for convergence.\n",
        "    lastrhos = ee.Array(allrhos.get(-1))\n",
        "    done = rhos.subtract(lastrhos) \\\n",
        "               .abs() \\\n",
        "               .reduce(ee.Reducer.max(), ee.List([0])) \\\n",
        "               .lt(ee.Number(0.0001)) \\\n",
        "               .toList() \\\n",
        "               .get(0)\n",
        "    allrhos = allrhos.cat([rhos.toList()])\n",
        "    # MAD variances.\n",
        "    sigma2s = rhos.subtract(1).multiply(-2).toList()\n",
        "    sigma2s = ee.Image.constant(sigma2s)\n",
        "    # Ensure sum of positive correlations between X and U is positive.\n",
        "    tmp = s11.matrixDiagonal().sqrt()\n",
        "    ones = tmp.multiply(0).add(1)\n",
        "    tmp = ones.divide(tmp).matrixToDiag()\n",
        "    s = tmp.matrixMultiply(s11).matrixMultiply(A).reduce(ee.Reducer.sum(), [0]).transpose()\n",
        "    A = A.matrixMultiply(s.divide(s.abs()).matrixToDiag())\n",
        "    # Ensure positive correlation.\n",
        "    tmp = A.transpose().matrixMultiply(s12).matrixMultiply(B).matrixDiagonal()\n",
        "    tmp = tmp.divide(tmp.abs()).matrixToDiag()\n",
        "    B = B.matrixMultiply(tmp)\n",
        "    # Canonical and MAD variates.\n",
        "    centeredImage1Array = centeredImage1.toArray().toArray(1)\n",
        "    centeredImage2Array = centeredImage2.toArray().toArray(1)\n",
        "    U = ee.Image(A.transpose()).matrixMultiply(centeredImage1Array) \\\n",
        "                   .arrayProject([0]) \\\n",
        "                   .arrayFlatten([bNames1])\n",
        "    V = ee.Image(B.transpose()).matrixMultiply(centeredImage2Array) \\\n",
        "                   .arrayProject([0]) \\\n",
        "                   .arrayFlatten([bNames2])\n",
        "    iMAD = U.subtract(V)\n",
        "    # Chi-square image.\n",
        "    Z = iMAD.pow(2) \\\n",
        "              .divide(sigma2s) \\\n",
        "              .reduce(ee.Reducer.sum())\n",
        "    return ee.Dictionary({'done': done, 'scale': scale, 'niter': niter.add(1),\n",
        "                          'image': image, 'allrhos': allrhos, 'Z': Z, 'iMAD': iMAD})\n",
        "\n",
        "#@title Run iMAD algorithm as export task\n",
        "def run_imad(aoi, image1, image2, assetFN, scale=10, maxiter=100):\n",
        "    try:\n",
        "        N = image1.bandNames().length().getInfo()\n",
        "        imadnames = ['iMAD'+str(i+1) for i in range(N)]\n",
        "        imadnames.append('Z')\n",
        "        # Maximum iterations.\n",
        "        inputlist = ee.List.sequence(1, maxiter)\n",
        "        first = ee.Dictionary({'done':0,\n",
        "                            'scale': scale,\n",
        "                            'niter': ee.Number(0),\n",
        "                            'image': image1.addBands(image2),\n",
        "                            'allrhos': [ee.List.sequence(1, N)],\n",
        "                            'Z': ee.Image.constant(0),\n",
        "                            'iMAD': ee.Image.constant(0)})\n",
        "        # Iteration.\n",
        "        result = ee.Dictionary(inputlist.iterate(imad, first))\n",
        "        # Retrieve results.\n",
        "        iMAD = ee.Image(result.get('iMAD')).clip(aoi)\n",
        "        rhos = ee.String.encodeJSON(ee.List(result.get('allrhos')).get(-1))\n",
        "        Z = ee.Image(result.get('Z'))\n",
        "        niter = result.getNumber('niter')\n",
        "        # Export iMAD and Z as a singe image, including rhos and number of iterations in properties.\n",
        "        iMAD_export = ee.Image.cat(iMAD, Z).rename(imadnames).set('rhos', rhos, 'niter', niter)\n",
        "        assetId = EXPORT_PATH + assetFN\n",
        "        assexport = ee.batch.Export.image.toAsset(iMAD_export,\n",
        "                        description='assetExportTask',\n",
        "                        assetId=assetId, scale=scale, maxPixels=1e10)\n",
        "        assexport.start()\n",
        "        print('Exporting iMAD to %s\\n task id: %s'%(assetId, str(assexport.id)))\n",
        "    except Exception as e:\n",
        "        print('Error: %s'%e)"
      ]
    },
    {
      "cell_type": "markdown",
      "metadata": {
        "id": "1EKu26_NLXYr"
      },
      "source": [
        "### Relative radiometric normalization\n",
        "\n",
        "We  will illustrate the idea with the German administrative district scene used in the first two parts of this tutorial ([Part 1](https://developers.google.com/earth-engine/tutorials/community/imad-tutorial-pt1), [Part 2](https://developers.google.com/earth-engine/tutorials/community/imad-tutorial-pt2)), the Landkreis Olpe. Once we have isolated what we think to be the no-change pixels for two different Sentinel-2 acquisitions in the aoi, we can perform a regression analysis on them to determine how well their radiometric parameters compare *relative* to the identified no-change pixels in the two scenes. Clearly, both variables involved have measurement uncertainty associated with them. In fact, which acquisition is termed reference and which is termed target data is arbitrary. Therefore it is preferable to use *orthogonal linear regression* rather than ordinary linear regression. The former method treats the data symmetrically whereas the latter assumes uncertainty only in the dependent variable.\n",
        "\n",
        "Orthogonal linear regression on two variables is explained in detail in the Appendix of [Canty et al. (2004)](https://www.sciencedirect.com/science/article/abs/pii/S0034425704001208), but can be briefly summarized as follows: let the no-change observations in a given spectral band of the reference and target images be $X_i$ and $Y_i, \\ i=1\\dots n$, respectively. Then define the $n\\times 2$ *data matrix*\n",
        "\n",
        "$$\n",
        "d = \\begin{pmatrix} X_1 & Y_1\\cr X_2 & Y_2 \\cr \\vdots & \\vdots \\cr X_n & Y_n\\end{pmatrix},\n",
        "$$\n",
        "\n",
        "and calculate from it the mean values $\\bar X,\\ \\bar Y$ and the covariance matrix\n",
        "\n",
        "$$\n",
        "\\Sigma =\\begin{pmatrix} \\sigma^2_X & \\sigma_{XY} \\cr \\sigma_{YX}\\ & \\sigma^2_Y\\end{pmatrix}.\n",
        "$$\n",
        "\n",
        "The best estimates for the slope $b$ and intercept $a$ of the orthogonal regression line\n",
        "\n",
        "$$\n",
        "Y = bX+a\n",
        "$$\n",
        "\n",
        "are then given by\n",
        "\n",
        "$$\n",
        "\\hat b = {\\sigma^2_X -\\sigma^2_Y + \\sqrt{(\\sigma^2_X -\\sigma^2_Y)^2+4\\sigma^2_{XY}}\\over 2\\sigma_{XY}}, \\quad \\hat a = \\bar Y - b\\bar X.\n",
        "$$\n",
        "\n",
        "As a simple quality criterion we can use the correlation coefficient\n",
        "\n",
        "$$\\rho = {\\sigma_{XY}\\over \\sigma_X\\sigma_Y}$$\n",
        "\n",
        "which has value one for a perfect fit.\n",
        "\n",
        "The following cell codes a function to iterate orthogonal regression over all of the spectral bands of an image pair."
      ]
    },
    {
      "cell_type": "code",
      "execution_count": null,
      "metadata": {
        "id": "3bKT0fvXLXYr",
        "tags": []
      },
      "outputs": [],
      "source": [
        "def orthoregress(current, prev):\n",
        "    '''\n",
        "    Iterator function for orthogonal regression\n",
        "    '''\n",
        "    k = ee.Number(current)\n",
        "    prev = ee.Dictionary(prev)\n",
        "    # Image is concatenation of reference and target.\n",
        "    image = ee.Image(prev.get('image'))\n",
        "    coeffs = ee.List(prev.get('coeffs'))\n",
        "    N = image.bandNames().length().divide(2)\n",
        "    # Data matrix.\n",
        "    d = image.select(k, k.add(N))\n",
        "    means = d.reduceRegion(ee.Reducer.mean(), scale=10, maxPixels=1e10) \\\n",
        "                  .toArray() \\\n",
        "                  .project([0])\n",
        "    Xm = means.get([0])\n",
        "    Ym = means.get([1])\n",
        "    Sigma = ee.Array(d.toArray() \\\n",
        "              .reduceRegion(ee.Reducer.covariance(), scale=10, maxPixels=1e10) \\\n",
        "              .get('array'))\n",
        "    Sxx = Sigma.get([0, 0])\n",
        "    Syy = Sigma.get([1, 1])\n",
        "    Sxy = Sigma.get([0, 1])\n",
        "    # Correlation.\n",
        "    rho = Sxy.divide(Sxx.multiply(Syy).sqrt())\n",
        "    # Orthoregress reference onto target.\n",
        "    b = Syy.subtract(Sxx) \\\n",
        "           .add(Syy.subtract(Sxx).pow(2).add(Sxy.pow(2).multiply(4)).sqrt()) \\\n",
        "           .divide(Sxy.multiply(2))\n",
        "    a = Ym.subtract(b.multiply(Xm))\n",
        "    coeffs = coeffs.add(ee.List([b, a, rho]))\n",
        "    return ee.Dictionary({'image': image, 'coeffs': coeffs})\n",
        "\n",
        "def normalize(ref, target, imadID, pmin=0.9, bandNames=['B2', 'B3', 'B4', 'B8', 'B11', 'B12']):\n",
        "    '''\n",
        "    Relative radiometric normalization of target to reference\n",
        "    using iMAD for 6-band visual/infrared images\n",
        "\n",
        "    Args:\n",
        "    - ref: Reference image\n",
        "    - target: Target image\n",
        "    - imadID: Asset ID of iMAD image\n",
        "    - pmin: Minimum p-value for identifying no change\n",
        "    - bandNames: Band names (default: S2 visual/infrared)\n",
        "\n",
        "    Returns:\n",
        "    - Tuple containing normalized target, coefficients, image stack, and no-change mask\n",
        "    '''\n",
        "    try:\n",
        "        # Get iMAD result and mask out water surfaces.\n",
        "        waterMask = ee.Image('UMD/hansen/global_forest_change_2015').select('datamask').eq(1)\n",
        "        res = ee.Image(EXPORT_PATH + imadID).updateMask(waterMask)\n",
        "        # iMAD image.\n",
        "        imad = res.select(0, 1, 2, 3, 4, 5)\n",
        "        # chi-square test statistic.\n",
        "        z = res.select(6).rename('Z')\n",
        "        niter = imad.get('niter').getInfo()\n",
        "        rhos = ee.List(imad.get('rhos')).getInfo()\n",
        "        print('iMAD result:')\n",
        "        print('iterations: %i'%niter)\n",
        "        print('canonical correlations: %s'%rhos)\n",
        "        print('orthogonal regression:')\n",
        "        # p-values.\n",
        "        pval = chi2cdf(z, 6).subtract(1).multiply(-1).rename('pval')\n",
        "        # no-change mask using p-values greater than pmin.\n",
        "        noChangeMask = pval.gt(pmin)\n",
        "        # Stack (concatenate) the reference and target images.\n",
        "        im_stack = ee.Image.cat(ref, target).clip(aoi).updateMask(noChangeMask)\n",
        "        # iterate ortho regression over spectral bands.\n",
        "        first = ee.Dictionary({'image': im_stack, 'coeffs': ee.List([])})\n",
        "        result = ee.Dictionary(ee.List.sequence(0, 5).iterate(orthoregress, first))\n",
        "        # Display results.\n",
        "        coeffs = np.array(result.get('coeffs').getInfo())\n",
        "        print('          Slope        Intercept      Rho')\n",
        "        pprint(coeffs)\n",
        "        a = coeffs[:, 1].tolist()\n",
        "        b = coeffs[:, 0].tolist()\n",
        "        # Normalize target:  Y = b X + a => X = (Y - a) / b\n",
        "        target_norm = target.subtract(ee.Image.constant(a)).divide(ee.Image.constant(b)).rename(bandNames)\n",
        "        return (target_norm, coeffs, im_stack, noChangeMask)\n",
        "    except ee.EEException as e:\n",
        "        print(\"Error:\", e)\n",
        "        return (None, None, None, None)"
      ]
    },
    {
      "cell_type": "markdown",
      "metadata": {
        "id": "H0ZfS3Z8LXYs"
      },
      "source": [
        "### A Slightly Artificial Example\n",
        "\n",
        "As a first illustration, we collect two minimally cloudy Sentinel-2 images over the Landkreis Olpe aoi from June, 2022 using the *collect* function from [Part 2](https://developers.google.com/earth-engine/tutorials/community/imad-tutorial-pt2), capturing both SR and TOA reflectances:"
      ]
    },
    {
      "cell_type": "code",
      "execution_count": null,
      "metadata": {
        "id": "swEp63qrLXYs",
        "tags": []
      },
      "outputs": [],
      "source": [
        "# Landkreis Olpe area of interest.\n",
        "# (`aois` FeatureCollection is owned and managed by tutorial author)\n",
        "aois = ee.FeatureCollection('projects/ee-mortcanty/assets/dvg1krs_nw').geometry()\n",
        "aoi = ee.Geometry(aois.geometries().get(26))\n",
        "\n",
        "# Spectral band combinations\n",
        "#Sentinel-2\n",
        "visirbands = ['B2', 'B3', 'B4', 'B8', 'B11', 'B12']\n",
        "visnirbands = ['B8','B3','B2']\n",
        "visbands = ['B2', 'B3', 'B4']\n",
        "irbands = ['B8', 'B11', 'B12']\n",
        "rededgebands = ['B5', 'B6', 'B7', 'B8A']\n",
        "visnirparams = {'min': [0,0,0], 'max': [6000,1500,1500]}\n",
        "visparams = {'min': [0,0,0], 'max': [1500,1500,1500]}\n",
        "# Landsat-9 surface reflectance\n",
        "visirbands_ls = ['SR_B2','SR_B3','SR_B4','SR_B5','SR_B6','SR_B7']\n",
        "visnirbands_ls = ['SR_B5','SR_B3','SR_B2']\n",
        "# Rescale LS-9 SR to Sentinel-2 SR\n",
        "def rescale_ls(image):\n",
        "    return image.select(1,2,3,4,5,6).multiply(0.0000275).add(-0.2).multiply(10000)"
      ]
    },
    {
      "cell_type": "code",
      "execution_count": null,
      "metadata": {
        "id": "HkWNsPJmLXYs",
        "tags": []
      },
      "outputs": [],
      "source": [
        "im1_sr, im2_toa = collect(aoi, '2022-06-15', '2022-06-17', '2022-06-22', '2022-06-24', 'COPERNICUS/S2_SR_HARMONIZED', coll2 = 'COPERNICUS/S2_HARMONIZED')"
      ]
    },
    {
      "cell_type": "markdown",
      "metadata": {
        "id": "kvEXikFyLXYs"
      },
      "source": [
        "Now we will do a relative radiometric normalization of the TOA image to the SR image. This is obviously a constructed example, as the target image, corrected to surface reflectance, is already available.\n",
        "\n",
        "First we require the iMAD result:"
      ]
    },
    {
      "cell_type": "code",
      "execution_count": null,
      "metadata": {
        "id": "yg9UDkAyLXYs",
        "tags": []
      },
      "outputs": [],
      "source": [
        "run_imad(aoi, im1_sr.select(visirbands), im2_toa.select(visirbands), 'MAD_Im1_sr_Im2_toa')"
      ]
    },
    {
      "cell_type": "markdown",
      "metadata": {
        "id": "iBZwDx1WLXYs"
      },
      "source": [
        "After the iMAD export is finished (monitor progress at [https://code.earthengine.google.com/tasks](https://code.earthengine.google.com/tasks)), we can apply the normalization procedure, choosing a minimum p-value of 0.9 (the default) for the no change pixels:"
      ]
    },
    {
      "cell_type": "code",
      "execution_count": null,
      "metadata": {
        "id": "lTIMR6qHLXYs"
      },
      "outputs": [],
      "source": [
        "target = im2_toa.select(visirbands)\n",
        "reference = im1_sr.select(visirbands)\n",
        "im2_toa_norm, coeffs, im_stack, noChangeMask = normalize(reference, target, 'MAD_Im1_sr_Im2_toa')\n",
        "# No-change image.\n",
        "nc = ee.Image.constant(1).clip(aoi).updateMask(noChangeMask)"
      ]
    },
    {
      "cell_type": "markdown",
      "metadata": {
        "id": "2G_Gqhu1LXYs"
      },
      "source": [
        "The $\\rho$ values are all $>0.96$ indicating well-defined regressions. Here we have a look at them:"
      ]
    },
    {
      "cell_type": "code",
      "execution_count": null,
      "metadata": {
        "id": "cTBDTXMlLXYs",
        "tags": []
      },
      "outputs": [],
      "source": [
        "def plot_orthoregress(coeffs, im_stack, bandNames=visirbands, aoi=None):\n",
        "    '''Plot the regression fits for 6 spectral bands.'''\n",
        "    fig, ax = plt.subplots(2, 3, figsize=(12, 8))\n",
        "    a = coeffs[:, 1].tolist()\n",
        "    b = coeffs[:, 0].tolist()\n",
        "\n",
        "    for i in range(3):\n",
        "        # Visual bands.\n",
        "        try:\n",
        "            d = np.array(ee.Array(im_stack.select(i, 6 + i)\n",
        "                                  .reduceRegion(ee.Reducer.toList(2), geometry=aoi, scale=10, maxPixels=1e10)\n",
        "                                  .get('list')).getInfo())\n",
        "            ax[0, i].plot(d[:, 0], d[:, 1], '.', label=bandNames[i])\n",
        "            ax[0, i].set_ylim(-50, 2000)\n",
        "            ax[0, i].set_xlim(-50, 2000)\n",
        "            ax[0, i].plot([-50, 2000], [a[i] - 50 * b[i], a[i] + 2000 * b[i]], '-r', label='ortho regression')\n",
        "            ax[0, i].legend()\n",
        "            ax[0, i].grid()\n",
        "        except ee.EEException as e:\n",
        "            print(\"Error fetching visual band data:\", e)\n",
        "\n",
        "        # IR bands.\n",
        "        try:\n",
        "            d = np.array(ee.Array(im_stack.select(i + 3, 9 + i)\n",
        "                                  .reduceRegion(ee.Reducer.toList(2), geometry=aoi, scale=10, maxPixels=1e10)\n",
        "                                  .get('list')).getInfo())\n",
        "            ax[1, i].plot(d[:, 0], d[:, 1], '.', label=bandNames[i + 3])\n",
        "            ax[1, i].set_ylim(-50, 6000)\n",
        "            ax[1, i].set_xlim(-50, 6000)\n",
        "            ax[1, i].plot([-50, 6000], [a[i + 3] - 50 * b[i + 3], a[i + 3] + 6000 * b[i + 3]], '-r', label='ortho regression')\n",
        "            ax[1, i].legend()\n",
        "            ax[1, i].grid()\n",
        "        except ee.EEException as e:\n",
        "            print(\"Error fetching IR band data:\", e)\n",
        "\n",
        "    plt.show()"
      ]
    },
    {
      "cell_type": "code",
      "execution_count": null,
      "metadata": {
        "id": "FhEzbe0iLXYs",
        "tags": []
      },
      "outputs": [],
      "source": [
        "plot_orthoregress( coeffs, im_stack )"
      ]
    },
    {
      "cell_type": "markdown",
      "metadata": {
        "id": "TfEyqgJmLXYs"
      },
      "source": [
        "The next cell compares the normalized and unnormalized TOA images with the reference SR image. The no-change pixels used in the regression are also displayed:"
      ]
    },
    {
      "cell_type": "code",
      "execution_count": null,
      "metadata": {
        "id": "EcOdPV1VLXYt"
      },
      "outputs": [],
      "source": [
        "M1 = geemap.Map()\n",
        "M1.centerObject(aoi, 13)\n",
        "M1.addLayer(im1_sr.select(visnirbands), visnirparams, 'Im1_sr')\n",
        "M1.addLayer(im2_toa.select(visnirbands), visnirparams, 'Im2_toa')\n",
        "M1.addLayer(im2_toa_norm.select(visnirbands), visnirparams, 'Im2_toa_norm')\n",
        "M1.addLayer(nc,{'min': 0, 'max': 1, 'palette': ['yellow']}, 'no change')\n",
        "\n",
        "M1"
      ]
    },
    {
      "cell_type": "markdown",
      "metadata": {
        "id": "nCNwpnwXLXYt"
      },
      "source": [
        "As we might expect, comparison of the NDVI indices is meaningful after the radiometric normalization, but not before:"
      ]
    },
    {
      "cell_type": "code",
      "execution_count": null,
      "metadata": {
        "id": "t9eVcACJLXYt"
      },
      "outputs": [],
      "source": [
        "def ndvi_s2(im):\n",
        "    '''Sentinel-2 NDVI.'''\n",
        "    return im.select('B8').subtract(im.select('B4')).divide(\n",
        "        im.select('B8').add(im.select('B4')))"
      ]
    },
    {
      "cell_type": "code",
      "execution_count": null,
      "metadata": {
        "id": "GWjtm9pZLXYt"
      },
      "outputs": [],
      "source": [
        "M2 = geemap.Map()\n",
        "M2.centerObject(aoi, 13)\n",
        "M2.addLayer(ndvi_s2(im1_sr), {'min': 0, 'max': 1.2, 'palette': ['black', 'yellow']}, 'Im1_ndvi')\n",
        "M2.addLayer(ndvi_s2(im2_toa_norm), {'min': 0, 'max': 1.2, 'palette': ['black', 'yellow']}, 'Im2_toa_norm_ndvi')\n",
        "M2.addLayer(ndvi_s2(im2_toa), {'min': 0, 'max': 1.2, 'palette': ['black', 'yellow']}, 'Im2_toa_ndvi')\n",
        "\n",
        "M2"
      ]
    },
    {
      "cell_type": "markdown",
      "metadata": {
        "id": "x3UezjdpLXYt"
      },
      "source": [
        "### A More Realistic Example\n",
        "\n",
        "Top of atmosphere reflectance images are available for Sentinel-2 from 2015-06-23, surface reflectance images only from 2017-03-28. So we might attempt to normalize historical TOA images to their earliest SR counterparts. Here, for example, we gather an SR image from May, 2017 and a TOA image from May, 2016:"
      ]
    },
    {
      "cell_type": "code",
      "execution_count": null,
      "metadata": {
        "id": "AUGRc--6LXYt",
        "tags": []
      },
      "outputs": [],
      "source": [
        "im1_sr, im2_toa = collect(aoi, '2017-05-01', '2017-05-31', '2016-05-01', '2016-05-31', 'COPERNICUS/S2_SR_HARMONIZED', coll2='COPERNICUS/S2_HARMONIZED')"
      ]
    },
    {
      "cell_type": "markdown",
      "metadata": {
        "id": "TUHFeCKCLXYt"
      },
      "source": [
        "Again we first run the iMAD algorithm on the two images:"
      ]
    },
    {
      "cell_type": "code",
      "execution_count": null,
      "metadata": {
        "id": "RxCFf_wKLXYt",
        "tags": []
      },
      "outputs": [],
      "source": [
        "run_imad(aoi, im1_sr.select(visirbands), im2_toa.select(visirbands), 'MAD_Im1_sr_Im1_toa', maxiter=200)"
      ]
    },
    {
      "cell_type": "markdown",
      "metadata": {
        "id": "16Pqn574LXYt"
      },
      "source": [
        "Once the export completes (check [https://code.earthengine.google.com/tasks](https://code.earthengine.google.com/tasks)), perform the orthogonal regression on the invariant pixels:"
      ]
    },
    {
      "cell_type": "code",
      "execution_count": null,
      "metadata": {
        "id": "na6m1MV1LXYt"
      },
      "outputs": [],
      "source": [
        "target = im2_toa.select(visirbands)\n",
        "reference = im1_sr.select(visirbands)\n",
        "im2_toa_norm, coeffs, im_stack, noChangeMask = normalize(reference, target, 'MAD_Im1_sr_Im1_toa')\n",
        "# No-change image.\n",
        "nc = ee.Image.constant(1).clip(aoi).updateMask(noChangeMask)"
      ]
    },
    {
      "cell_type": "code",
      "execution_count": null,
      "metadata": {
        "id": "02buhAX-LXYt",
        "tags": []
      },
      "outputs": [],
      "source": [
        "plot_orthoregress(coeffs, im_stack)"
      ]
    },
    {
      "cell_type": "markdown",
      "metadata": {
        "id": "0hx3uLejLXYt"
      },
      "source": [
        "The above plot for the NIR band B8 is interesting as it seems to indicate that the surface reflectance correction is slightly nonlinear.\n",
        "In any case, the regression plots look reasonable, so here again is the comparison of the normalized and unnormalized TOA images with the reference SR image:"
      ]
    },
    {
      "cell_type": "code",
      "execution_count": null,
      "metadata": {
        "id": "R0ZM9GLALXYt"
      },
      "outputs": [],
      "source": [
        "M3 = geemap.Map()\n",
        "M3.centerObject(aoi, 13)\n",
        "M3.addLayer(im1_sr.select(visnirbands), visnirparams, 'Im1_sr')\n",
        "M3.addLayer(im2_toa.select(visnirbands), visnirparams, 'Im1_toa')\n",
        "M3.addLayer(im2_toa_norm.select(visnirbands), visnirparams, 'Im2_toa_norm')\n",
        "M3.addLayer(nc,{'min': 0, 'max': 1, 'palette': ['yellow']}, 'no change')\n",
        "\n",
        "M3"
      ]
    },
    {
      "cell_type": "markdown",
      "metadata": {
        "id": "2j0fXpFPLXYu"
      },
      "source": [
        "### Harmonization\n",
        "\n",
        "The term *harmonization*, with reference to Sentinel-2 data, has a special meaning, see [the note](https://developers.google.com/earth-engine/datasets/catalog/sentinel-2)  in the GEE data catalogue. However, here we'll use it to characterize relative radiometric normalization across two different remote sensing satellite missions.\n",
        "\n",
        "Landsat-9 surface reflectance images are available from October, 2021, Landsat-8 SR from March, 2013. Paralleling our investigation of clear cutting in [Part 2](https://developers.google.com/earth-engine/tutorials/community/imad-tutorial-pt2), we gather a cloud-free Landsat-8 image from March 30, 2021 and a Landsat-9 acquisition from March 9, 2022, likewise cloud-free. For convenience, the reflectances are rescaled to the same range $[0,10000]$ as for Sentinel-2."
      ]
    },
    {
      "cell_type": "code",
      "execution_count": null,
      "metadata": {
        "id": "saapPrVDLXYu",
        "tags": []
      },
      "outputs": [],
      "source": [
        "im_ls8, im_ls9 = collect(aoi, '2021-03-29', '2021-03-31', '2022-03-08', '2022-03-10', 'LANDSAT/LC08/C02/T1_L2', coll2='LANDSAT/LC09/C02/T1_L2')\n",
        "im_ls8 = rescale_ls(im_ls8)\n",
        "im_ls9 = rescale_ls(im_ls9)"
      ]
    },
    {
      "cell_type": "markdown",
      "metadata": {
        "id": "779R1GokLXYu"
      },
      "source": [
        "Run the iMAD algorithm:"
      ]
    },
    {
      "cell_type": "code",
      "execution_count": null,
      "metadata": {
        "id": "uU_VNwdALXYu",
        "tags": []
      },
      "outputs": [],
      "source": [
        "run_imad(aoi, im_ls8.select(visirbands_ls), im_ls9.select(visirbands_ls), 'MAD_Im_ls8_Im_ls9', scale=30, maxiter=200)"
      ]
    },
    {
      "cell_type": "markdown",
      "metadata": {
        "id": "kdy6BSlBLXYu"
      },
      "source": [
        "Once the export completes (check [https://code.earthengine.google.com/tasks](https://code.earthengine.google.com/tasks)), perform the normalization (or rather, the harmonization):"
      ]
    },
    {
      "cell_type": "code",
      "execution_count": null,
      "metadata": {
        "id": "S4754xXXLXYu"
      },
      "outputs": [],
      "source": [
        "target = im_ls8.select(visirbands_ls)\n",
        "reference = im_ls9.select(visirbands_ls)\n",
        "im_ls8_norm, coeffs, im_stack, noChangeMask = normalize(reference, target, 'MAD_Im_ls8_Im_ls9', pmin=0.9, bandNames=visirbands_ls)\n",
        "# No-change image.\n",
        "nc = ee.Image.constant(1).clip(aoi).updateMask(noChangeMask)"
      ]
    },
    {
      "cell_type": "code",
      "execution_count": null,
      "metadata": {
        "id": "QKLYqORfLXYu",
        "tags": []
      },
      "outputs": [],
      "source": [
        "plot_orthoregress(coeffs, im_stack, bandNames=visirbands_ls)"
      ]
    },
    {
      "cell_type": "markdown",
      "metadata": {
        "id": "mj3J_xE5LXYu"
      },
      "source": [
        "For most of the bands, the intercepts are small and the slopes fairly close to one. The NIR band 'SR_B5' is the exception. This is apparent in the direct comparison of the original and harmonized Landsat 8 images:"
      ]
    },
    {
      "cell_type": "code",
      "execution_count": null,
      "metadata": {
        "id": "hwJzmws3LXYv"
      },
      "outputs": [],
      "source": [
        "M4 = geemap.Map()\n",
        "M4.centerObject(aoi, 11)\n",
        "M4.addLayer(im_ls9.select(visnirbands_ls), visnirparams, 'Im_ls9')\n",
        "M4.addLayer(im_ls8.select(visnirbands_ls), visnirparams, 'Im_ls8')\n",
        "M4.addLayer(im_ls8_norm.select(visnirbands_ls), visnirparams, 'Im_ls8_norm')\n",
        "M4.addLayer(nc,{'min': 0, 'max': 1, 'palette': ['yellow']}, 'no change')\n",
        "\n",
        "M4"
      ]
    },
    {
      "cell_type": "markdown",
      "metadata": {
        "id": "Rhr8B90_LXYv"
      },
      "source": [
        "### Conclusion\n",
        "\n",
        "This ends our three-part tutorial on GEE change detection with the iMAD transformation. We hope it has been useful and informative for anyone facing the task of discriminating changes and/or invariances in multispectral image pairs, particularly in the GEE environment."
      ]
    },
    {
      "cell_type": "markdown",
      "metadata": {
        "id": "6kaumJrnLXYv"
      },
      "source": [
        "### Exercises"
      ]
    },
    {
      "cell_type": "markdown",
      "metadata": {
        "id": "Z3_PrBpWLXYv"
      },
      "source": [
        "1. By clustering the Landsat iMAD image from the last example, try to determine the total forest cover loss due to clear cutting between the two acquisitions, see [Part 2](https://developers.google.com/earth-engine/tutorials/community/imad-tutorial-pt2)."
      ]
    },
    {
      "cell_type": "code",
      "execution_count": null,
      "metadata": {
        "id": "TSOSFoAjLXYv"
      },
      "outputs": [],
      "source": [
        "im_imad = ee.Image(EXPORT_PATH + 'MAD_Im_ls8_Im_ls9').select(0, 1, 2, 3, 4, 5)"
      ]
    },
    {
      "cell_type": "markdown",
      "metadata": {
        "id": "UWWKXxHBLXYv"
      },
      "source": [
        "2. The following code generates a time series of 8 relatively cloud-free Sentinel-2 TOA images from June to September, 2022. Use the methods discussed above to perform a relative radiometric normalization of the entire series."
      ]
    },
    {
      "cell_type": "code",
      "execution_count": null,
      "metadata": {
        "id": "UyH71PxCLXYv"
      },
      "outputs": [],
      "source": [
        "im1, im2 = collect(aoi, '2022-06-15', '2022-06-17', '2022-06-22', '2022-06-24', 'COPERNICUS/S2_HARMONIZED')\n",
        "im3, im4 = collect(aoi, '2022-06-25', '2022-07-09', '2022-07-09', '2022-07-24', 'COPERNICUS/S2_HARMONIZED')\n",
        "im5, im6 = collect(aoi, '2022-07-28', '2022-07-31', '2022-08-01', '2022-08-31', 'COPERNICUS/S2_HARMONIZED')\n",
        "im7, im8 = collect(aoi, '2022-08-13', '2022-08-31', '2022-09-01', '2022-09-30', 'COPERNICUS/S2_HARMONIZED')"
      ]
    }
  ],
  "metadata": {
    "colab": {
      "provenance": []
    },
    "kernelspec": {
      "display_name": "Python 3 (ipykernel)",
      "language": "python",
      "name": "python3"
    },
    "language_info": {
      "codemirror_mode": {
        "name": "ipython",
        "version": 3
      },
      "file_extension": ".py",
      "mimetype": "text/x-python",
      "name": "python",
      "nbconvert_exporter": "python",
      "pygments_lexer": "ipython3",
      "version": "3.10.6"
    }
  },
  "nbformat": 4,
  "nbformat_minor": 0
}
